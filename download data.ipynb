{
 "cells": [
  {
   "cell_type": "markdown",
   "metadata": {},
   "source": [
    "从网页上下载数据到DrugCentral"
   ]
  },
  {
   "cell_type": "code",
   "execution_count": 1,
   "metadata": {},
   "outputs": [],
   "source": [
    "import urllib"
   ]
  },
  {
   "cell_type": "code",
   "execution_count": 2,
   "metadata": {},
   "outputs": [
    {
     "data": {
      "text/plain": [
       "('DrugCentral/structures.smiles.tsv', <http.client.HTTPMessage at 0x57af520>)"
      ]
     },
     "execution_count": 2,
     "metadata": {},
     "output_type": "execute_result"
    }
   ],
   "source": [
    "#下载文件\n",
    "url = 'https://unmtid-shinyapps.net/download/DrugCentral/2021_09_01/drug.target.interaction.tsv.gz'\n",
    "urllib.request.urlretrieve(url, 'DrugCentral/drug.target.interaction.tsv.gz') # type: ignore\n",
    "url1 = 'https://drugcentral.org/static/FDA+EMA+PMDA_Approved.csv'\n",
    "urllib.request.urlretrieve(url1, 'DrugCentral/FDA+EMA+PMDA_Approved.csv') # type: ignore\n",
    "url2 = 'https://unmtid-shinyapps.net/download/DrugCentral/2021_09_01/structures.smiles.tsv'\n",
    "urllib.request.urlretrieve(url2, 'DrugCentral/structures.smiles.tsv') # type: ignore"
   ]
  }
 ],
 "metadata": {
  "kernelspec": {
   "display_name": "Python 3",
   "language": "python",
   "name": "python3"
  },
  "language_info": {
   "codemirror_mode": {
    "name": "ipython",
    "version": 3
   },
   "file_extension": ".py",
   "mimetype": "text/x-python",
   "name": "python",
   "nbconvert_exporter": "python",
   "pygments_lexer": "ipython3",
   "version": "3.8.5"
  },
  "orig_nbformat": 4,
  "vscode": {
   "interpreter": {
    "hash": "09000dea53a909788ef3b70ea99c75917ab6a650398ed705f6c195ab9822a93c"
   }
  }
 },
 "nbformat": 4,
 "nbformat_minor": 2
}
